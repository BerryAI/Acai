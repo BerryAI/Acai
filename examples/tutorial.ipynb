{
 "cells": [
  {
   "cell_type": "markdown",
   "metadata": {},
   "source": [
    "# Tutorial: using OpenMRS to recommend music for a listener"
   ]
  },
  {
   "cell_type": "markdown",
   "metadata": {},
   "source": [
    "## Prerequisites\n",
    "\n",
    "Please make sure you have installed the following packages:\n",
    "```\n",
    "numpy\n",
    "sklearn\n",
    "```"
   ]
  },
  {
   "cell_type": "markdown",
   "metadata": {},
   "source": [
    "### Import OpenMRS library"
   ]
  },
  {
   "cell_type": "code",
   "execution_count": 1,
   "metadata": {
    "collapsed": false
   },
   "outputs": [
    {
     "name": "stdout",
     "output_type": "stream",
     "text": [
      "current working directory: /Users/zz/projects/berryai/Acai/examples\n"
     ]
    }
   ],
   "source": [
    "try:\n",
    "    import OpenMRS as om\n",
    "except:\n",
    "    # At this point, you probably haven't installed OpenMRS. You can install it by:\n",
    "    #   sudo pip install git+https://github.com/BerryAI/Acai\n",
    "    # Now we are going to import OpenMRS from the source.\n",
    "    # Note: This assumes you are currently in the 'examples/' folder running this notebook.\n",
    "    import os\n",
    "    import sys\n",
    "    CWD = os.getcwd()\n",
    "    print 'current working directory:', CWD\n",
    "    sys.path.append(os.path.join(CWD, '..'))\n",
    "    import OpenMRS as om"
   ]
  },
  {
   "cell_type": "markdown",
   "metadata": {},
   "source": [
    "### Load example data\n",
    "\n",
    "OpenMRS provides a small set of user ratings data. Let's load it and see what's in there."
   ]
  },
  {
   "cell_type": "code",
   "execution_count": 2,
   "metadata": {
    "collapsed": false,
    "scrolled": false
   },
   "outputs": [
    {
     "name": "stdout",
     "output_type": "stream",
     "text": [
      "These are user ids:\n",
      "[u'5733935958982656', u'5693048138760192', u'6350668029755392', u'5640238160412672', u'4613861369970688']\n",
      "These are track ids and rating scores for the first user:\n",
      "[(u'2fuNBnTkGdi46PEsityDN6', 4), (u'1vG4lS2fKu6ahMLBXNAy2Z', 2), (u'5pPKsIik5j7pJ17NESh2ZE', 2), (u'3cY2jV291FokhXKnDTtgAn', 1), (u'4iCn374fZg5UbGD1xFNo1m', 2)]\n"
     ]
    }
   ],
   "source": [
    "example_ratings = om.data.get_example_ratings()\n",
    "example_tracks = om.data.get_example_tracks()\n",
    "\n",
    "print 'These are user ids:'\n",
    "print example_ratings.keys()[:5]\n",
    "\n",
    "print 'These are track ids and rating scores for the first user:'\n",
    "print example_ratings.values()[0].items()[:5]"
   ]
  },
  {
   "cell_type": "markdown",
   "metadata": {},
   "source": [
    "### Start and train a recomemndation engine\n",
    "\n",
    "Feed the user ratings data into the recommendation engine and train it with collaborative filtering."
   ]
  },
  {
   "cell_type": "code",
   "execution_count": 3,
   "metadata": {
    "collapsed": false
   },
   "outputs": [],
   "source": [
    "engine = om.RecommendationEngine()  # or equivalently, use the following line\n",
    "# engine = om.RecommendationEngine(catalog=SimpleCatalog(example_tracks))\n",
    "\n",
    "# Feed the user ratings into the recommendation engine and train it.\n",
    "engine.train(ratings=example_ratings)"
   ]
  },
  {
   "cell_type": "markdown",
   "metadata": {},
   "source": [
    "Now the recommendation `engine` knows about users and their ratings. We can retrieve and print them out."
   ]
  },
  {
   "cell_type": "code",
   "execution_count": 4,
   "metadata": {
    "collapsed": false
   },
   "outputs": [
    {
     "name": "stdout",
     "output_type": "stream",
     "text": [
      "Ratings by user 5733935958982656 (5 being most favorable and 1 least favorable):\n",
      "  User rates 4 on track 2fuNBnTkGdi46PEsityDN6: \"Elegy for strings, Op.58\", by Edward Elgar et al\n",
      "  User rates 2 on track 1vG4lS2fKu6ahMLBXNAy2Z: \"The Love for 3 Oranges Suite, Op. 3...\", by Jascha Heifetz et al\n",
      "  User rates 2 on track 5pPKsIik5j7pJ17NESh2ZE: \"Song for Baba (Arr. Chowhan)\", by Julian Lloyd Webber et al\n",
      "  User rates 1 on track 3cY2jV291FokhXKnDTtgAn: \"Girls Were Made To Love And Kiss\", by André Rieu\n",
      "  User rates 2 on track 4iCn374fZg5UbGD1xFNo1m: \"Symphony No. 3: II. Lento E Largo -...\", by Henryk Górecki\n"
     ]
    }
   ],
   "source": [
    "one_user = engine.get_user_ids()[0]\n",
    "ratings = engine.get_ratings_by_user(user_id=one_user)\n",
    "print ('Ratings by user %s (5 being most favorable and 1 least favorable):' %\n",
    "    one_user)\n",
    "for track_id, rating in ratings.items()[:5]:\n",
    "    print '  User rates %s on track %s' % (rating,\n",
    "        engine.catalog.get_track_by_id(track_id))\n"
   ]
  },
  {
   "cell_type": "markdown",
   "metadata": {},
   "source": [
    "### Generate recommendations\n",
    "\n",
    "With the trained `engine`, we can let it generate music recommendations for a user according to his/her historical ratings."
   ]
  },
  {
   "cell_type": "code",
   "execution_count": 5,
   "metadata": {
    "collapsed": false
   },
   "outputs": [
    {
     "name": "stdout",
     "output_type": "stream",
     "text": [
      "\n",
      "Recommended tracks for user 5733935958982656:\n",
      "5Bqc0WFB9d8Uf9pdNml6M3: \"Kheira's Theme\", by Julian Lloyd Webber\n",
      "6f3ki4Xfbiv1iR33XCXgpJ: \"Piano Trio No. 1, in D Minor, Op. 4...\", by Pablo Casals et al\n",
      "4XcOOsBx4InAFNzhKumQuv: \"Songbird\", by All Angels\n",
      "0na8x6EOqjHsGABdB90TIC: \"Hold Tight\", by Justin Bieber\n",
      "6cAglVR27Jy5asrhDVrCio: \"Fields Of Fortune\", by Rolf Løvland et al\n",
      "0pOAcehnnODZXk37z39nOw: \"Silent O Moyle\", by Meav\n",
      "5E3WulVOsri3J9MZpJ8QMZ: \"Sonata for Violin and Piano in B-Fl...\", by Arthur Grumiaux et al\n",
      "7nUeYb7hCkOqfMBoMB8dly: \"Waltz Of The White Lilies\", by Deanta\n",
      "5pPKsIik5j7pJ17NESh2ZE: \"Song for Baba (Arr. Chowhan)\", by Julian Lloyd Webber et al\n",
      "66T30PDdNToSYj55OgteNG: \"Suite for Solo Cello No. 2 in D Min...\", by Sara Sant'Ambrogio\n"
     ]
    }
   ],
   "source": [
    "# Recommend tracks for a user.\n",
    "recommended_tracks = engine.recommend(user_id=one_user, num=10)\n",
    "print '\\nRecommended tracks for user %s:' % one_user\n",
    "for t in recommended_tracks:\n",
    "    print t\n"
   ]
  },
  {
   "cell_type": "markdown",
   "metadata": {},
   "source": [
    "You can start streaming the recommended tracks to the user. Note that some tracks will be the same as what this user has listened to, so you if you want to encourage diversity, make sure to exclude the recently played tracks.\n",
    "\n",
    "And after your users rate these recommended tracks, you can keep feeding the data back to the recommendation engine and get new recommendations."
   ]
  }
 ],
 "metadata": {
  "kernelspec": {
   "display_name": "Python 2",
   "language": "python",
   "name": "python2"
  },
  "language_info": {
   "codemirror_mode": {
    "name": "ipython",
    "version": 2
   },
   "file_extension": ".py",
   "mimetype": "text/x-python",
   "name": "python",
   "nbconvert_exporter": "python",
   "pygments_lexer": "ipython2",
   "version": "2.7.11"
  }
 },
 "nbformat": 4,
 "nbformat_minor": 0
}
